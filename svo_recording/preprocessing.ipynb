{
 "cells": [
  {
   "cell_type": "code",
   "execution_count": 5,
   "source": [
    "import pyzed.sl as sl\n",
    "import matplotlib.pyplot as plt\n",
    "import cv2\n",
    "\n",
    "params = sl.InitParameters()\n",
    "\n",
    "params.set_from_svo_file('c2__zoo_acuarium.svo')\n",
    "params.svo_real_time_mode = True\n",
    "params.depth_mode = sl.DEPTH_MODE.QUALITY\n",
    "params.coordinate_units = sl.UNIT.METER\n",
    "params.coordinate_system = sl.COORDINATE_SYSTEM.IMAGE\n",
    "params.depth_stabilization = True\n",
    "\n",
    "cam = sl.Camera()\n",
    "if not cam.is_opened():\n",
    "    print(\"Opening ZED Camera...\")\n",
    "\n",
    "status = cam.open(params)\n",
    "if status != sl.ERROR_CODE.SUCCESS:\n",
    "    print(repr(status))\n",
    "    exit()\n",
    "\n",
    "\n",
    "left = sl.Mat()\n",
    "\n",
    "resolution = sl.Resolution(1920, 1080)\n",
    "\n",
    "for frame in range(100):\n",
    "    err_code = cam.grab()\n",
    "\n",
    "    # Retrieve data each frame\n",
    "    cam.retrieve_image(left, view=sl.VIEW.LEFT, resolution=resolution)\n",
    "\n",
    "    left_np = left.get_data()\n",
    "    plt.imsave(f'frames/frame_{frame}.jpg', left_np)\n",
    "\n",
    "cam.close()"
   ],
   "outputs": [
    {
     "output_type": "stream",
     "name": "stdout",
     "text": [
      "Opening ZED Camera...\n"
     ]
    }
   ],
   "metadata": {}
  },
  {
   "cell_type": "code",
   "execution_count": null,
   "source": [
    "import tensorflow as tf\n",
    "import pyzed.sl as sl\n",
    "import cv2\n",
    "\n",
    "# Model\n",
    "model = tf.keras.Sequential()\n",
    "model.add(tf.keras.layers.Conv2D(32, (3, 3), activation='relu'))\n",
    "model.add(tf.keras.layers.Conv2D(32, (3, 3), activation='relu'))\n",
    "model.add(tf.keras.layers.Conv2D(32, (3, 3), activation='relu'))\n",
    "model.add(tf.keras.layers.MaxPool2D())\n",
    "model.add(tf.keras.layers.Flatten())\n",
    "model.add(tf.keras.layers.Dense(32), activation='relu')\n",
    "model.add(tf.keras.layers.Dense(6), activation='softmax')\n",
    "\n",
    "model.compile(optimizer='adam', metrics='mae')\n",
    "\n",
    "\n",
    "params = sl.InitParameters()\n",
    "\n",
    "params.set_from_svo_file('c2__zoo_acuarium.svo')\n",
    "params.svo_real_time_mode = True\n",
    "params.depth_mode = sl.DEPTH_MODE.QUALITY\n",
    "params.coordinate_units = sl.UNIT.METER\n",
    "params.coordinate_system = sl.COORDINATE_SYSTEM.IMAGE\n",
    "params.depth_stabilization = True\n",
    "\n",
    "cam = sl.Camera()\n",
    "if not cam.is_opened():\n",
    "    print(\"Opening ZED Camera...\")\n",
    "\n",
    "status = cam.open(params)\n",
    "if status != sl.ERROR_CODE.SUCCESS:\n",
    "    print(repr(status))\n",
    "    exit()\n",
    "\n",
    "\n",
    "left = sl.Mat()\n",
    "depth = sl.Mat()\n",
    "point_cloud = sl.Mat()\n",
    "depth_img = sl.Mat()\n",
    "\n",
    "resolution = sl.Resolution(1920, 1080)\n",
    "\n",
    "while i in range(1):\n",
    "    err_code = cam.grab()\n",
    "\n",
    "    # Retrieve data each frame\n",
    "    cam.retrieve_image(left, view=sl.VIEW.LEFT, resolution=resolution)\n",
    "    cam.retrieve_image(depth_img, view=sl.VIEW.DEPTH, resolution=resolution)\n",
    "\n",
    "    cam.retrieve_measure(depth, measure=sl.MEASURE.DEPTH, resolution=resolution)\n",
    "    cam.retrieve_measure(point_cloud, measure=sl.MEASURE.XYZ, resolution=resolution) # -> (X, Y ,Z, not used)\n",
    "\n",
    "    pt_cloud_np = point_cloud.get_data()\n",
    "\n",
    "    left_np = left.get_data()\n",
    "    predictions = model.pr\n",
    "    print(predictions)\n",
    "\n",
    "cam.close()"
   ],
   "outputs": [],
   "metadata": {}
  }
 ],
 "metadata": {
  "orig_nbformat": 4,
  "language_info": {
   "name": "python",
   "version": "3.6.9",
   "mimetype": "text/x-python",
   "codemirror_mode": {
    "name": "ipython",
    "version": 3
   },
   "pygments_lexer": "ipython3",
   "nbconvert_exporter": "python",
   "file_extension": ".py"
  },
  "kernelspec": {
   "name": "python3",
   "display_name": "Python 3.6.9 64-bit"
  },
  "interpreter": {
   "hash": "31f2aee4e71d21fbe5cf8b01ff0e069b9275f58929596ceb00d14d90e3e16cd6"
  }
 },
 "nbformat": 4,
 "nbformat_minor": 2
}